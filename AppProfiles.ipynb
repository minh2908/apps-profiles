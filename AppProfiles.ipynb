{
 "cells": [
  {
   "cell_type": "markdown",
   "metadata": {},
   "source": [
    "# Which app should you build? An analysis on the most profitable app profiles on the AppStore and Google Play Store\n",
    "\n",
    "According to Statista, by September 2018, there were more than 2 million apps on the AppStore and 2.1 million apps on the Google Play Store. The huge number of apps poses a great question for the new app developers: what app should they build to stand out and succeed? \n",
    "\n",
    "In this project, we focus on the free-app market, which means the market for apps users can download for free. The revenue model for these apps is the in-app advertisement. As a result, it is desirable to get as many users for the apps as possible. By analyzing a dataset of more than 18,000 apps on the AppStore and Google Play Store, we will try to find out which kinds of apps are likely to attract users.\n"
   ]
  },
  {
   "cell_type": "markdown",
   "metadata": {},
   "source": [
    "# 1. Exploring Data\n",
    "In this project, we analyze two datasets available from Kaggle: the [ios][1] dataset, and the [android][2] dataset.\n",
    "We first open the files containing the datasets, then read the content into two variables: `ios_data` and `android_data`.\n",
    "\n",
    "[1]: https://www.kaggle.com/ramamet4/app-store-apple-data-set-10k-apps/home \"ios\"\n",
    "[2]: https://www.kaggle.com/lava18/google-play-store-apps/home \"android\""
   ]
  },
  {
   "cell_type": "code",
   "execution_count": 2,
   "metadata": {},
   "outputs": [],
   "source": [
    "opened_ios_file = open('AppleStore.csv',encoding='utf-8')\n",
    "opened_android_file = open('googleplaystore.csv',encoding='utf-8')\n",
    "\n",
    "from csv import reader\n",
    "read_ios_file = reader(opened_ios_file)\n",
    "read_android_file = reader(opened_android_file)\n",
    "\n",
    "ios_data = list(read_ios_file)\n",
    "android_data = list(read_android_file)"
   ]
  },
  {
   "cell_type": "markdown",
   "metadata": {},
   "source": [
    "To make data exploration easier, we create a function `explore_data()`. The function prints a few rows from index `start` to `end` and the numbers of rows and columns of the dataset if requested."
   ]
  },
  {
   "cell_type": "code",
   "execution_count": 3,
   "metadata": {},
   "outputs": [],
   "source": [
    "def explore_data(dataset, start, end, rows_and_columns=False):\n",
    "    dataset_slice = dataset[start:end]    \n",
    "    for row in dataset_slice:\n",
    "        print(row)\n",
    "        print('\\n') # adds a new (empty) line after each row\n",
    "\n",
    "    if rows_and_columns:\n",
    "        print('Number of rows:', len(dataset))\n",
    "        print('Number of columns:', len(dataset[0]))"
   ]
  },
  {
   "cell_type": "markdown",
   "metadata": {},
   "source": [
    "The first three rows of the ios dataset are shown below. As we can see the dataset contains information about 7,198 apps. Details about the meaning of each column are written in the data [documentation](https://www.kaggle.com/ramamet4/app-store-apple-data-set-10k-apps/home). As we see, each app is equipped with an unique ID. The fields we probably will care about are the ratings and genre."
   ]
  },
  {
   "cell_type": "code",
   "execution_count": 4,
   "metadata": {
    "scrolled": false
   },
   "outputs": [
    {
     "name": "stdout",
     "output_type": "stream",
     "text": [
      "['id', 'track_name', 'size_bytes', 'currency', 'price', 'rating_count_tot', 'rating_count_ver', 'user_rating', 'user_rating_ver', 'ver', 'cont_rating', 'prime_genre', 'sup_devices.num', 'ipadSc_urls.num', 'lang.num', 'vpp_lic']\n",
      "\n",
      "\n",
      "['284882215', 'Facebook', '389879808', 'USD', '0.0', '2974676', '212', '3.5', '3.5', '95.0', '4+', 'Social Networking', '37', '1', '29', '1']\n",
      "\n",
      "\n",
      "['389801252', 'Instagram', '113954816', 'USD', '0.0', '2161558', '1289', '4.5', '4.0', '10.23', '12+', 'Photo & Video', '37', '0', '29', '1']\n",
      "\n",
      "\n",
      "Number of rows: 7198\n",
      "Number of columns: 16\n"
     ]
    }
   ],
   "source": [
    "#first three rows of ios data\n",
    "explore_data(ios_data, 0, 3, True)"
   ]
  },
  {
   "cell_type": "markdown",
   "metadata": {},
   "source": [
    "The first three rows of the android dataset and information about its columns are shown below. The documentation for this dataset is available [here](https://www.kaggle.com/lava18/google-play-store-apps/home). We see that the number of records in the android dataset is 10,842 records, more than the ios dataset."
   ]
  },
  {
   "cell_type": "code",
   "execution_count": 5,
   "metadata": {
    "scrolled": true
   },
   "outputs": [
    {
     "name": "stdout",
     "output_type": "stream",
     "text": [
      "['App', 'Category', 'Rating', 'Reviews', 'Size', 'Installs', 'Type', 'Price', 'Content Rating', 'Genres', 'Last Updated', 'Current Ver', 'Android Ver']\n",
      "\n",
      "\n",
      "['Photo Editor & Candy Camera & Grid & ScrapBook', 'ART_AND_DESIGN', '4.1', '159', '19M', '10,000+', 'Free', '0', 'Everyone', 'Art & Design', 'January 7, 2018', '1.0.0', '4.0.3 and up']\n",
      "\n",
      "\n",
      "['Coloring book moana', 'ART_AND_DESIGN', '3.9', '967', '14M', '500,000+', 'Free', '0', 'Everyone', 'Art & Design;Pretend Play', 'January 15, 2018', '2.0.0', '4.0.3 and up']\n",
      "\n",
      "\n",
      "Number of rows: 10842\n",
      "Number of columns: 13\n"
     ]
    }
   ],
   "source": [
    "#first three rows of android data\n",
    "explore_data(android_data, 0, 3, True)"
   ]
  },
  {
   "cell_type": "markdown",
   "metadata": {},
   "source": [
    "# 2. Cleaning Data\n",
    "In this section, we fix some errors in the dataset found by other users working on the same datasets. Discussion about these errors is available on the dataset [discussion page](https://www.kaggle.com/lava18/google-play-store-apps/discussion). \n",
    "\n",
    "## 2.1. Removing Erroneous Entry\n",
    "In [one](https://www.kaggle.com/lava18/google-play-store-apps/discussion/66015) of the discussions, it is reported that the entry #10473 in the Goolge dataset has no value for the 'Category' value. Since only one out of 10,842 rows in the android dataset has this problem, it is safe to simply delete this entry without affecting the analysis of the dataset."
   ]
  },
  {
   "cell_type": "code",
   "execution_count": 6,
   "metadata": {},
   "outputs": [
    {
     "data": {
      "text/plain": [
       "['Life Made WI-Fi Touchscreen Photo Frame',\n",
       " '1.9',\n",
       " '19',\n",
       " '3.0M',\n",
       " '1,000+',\n",
       " 'Free',\n",
       " '0',\n",
       " 'Everyone',\n",
       " '',\n",
       " 'February 11, 2018',\n",
       " '1.0.19',\n",
       " '4.0 and up']"
      ]
     },
     "execution_count": 6,
     "metadata": {},
     "output_type": "execute_result"
    }
   ],
   "source": [
    "android_data[10473]"
   ]
  },
  {
   "cell_type": "code",
   "execution_count": 7,
   "metadata": {},
   "outputs": [],
   "source": [
    "del android_data[10473]"
   ]
  },
  {
   "cell_type": "markdown",
   "metadata": {},
   "source": [
    "## 2.2. Removing Duplicated Entries\n",
    "The google dataset has some duplicated entries for the same apps because the data was collected at different times, and one entry was created at each time the information was recorded. In order to find the duplicated apps, we write the `find_duplicate()` function. The function returns a list of the unique and duplicated apps. Looking at the result, we see that there is no duplicated entry in the ios dataset. However, there are 1,181 duplicated entries in the android dataset. We will remove the duplicated apps so that one app has only one entry. The criteria for removal is based on the numbers of reviews of an app, i.e., for one app, the entry with the largest number of user reviews must be the most recent record. We will only keep that entry and delete all the other ones."
   ]
  },
  {
   "cell_type": "code",
   "execution_count": 18,
   "metadata": {},
   "outputs": [
    {
     "name": "stdout",
     "output_type": "stream",
     "text": [
      "Number of duplicated ios apps: 0\n",
      "Number of unique ios apps: 7197\n",
      "Number of duplicated android apps: 1181\n",
      "Number of unique android apps: 9659\n"
     ]
    }
   ],
   "source": [
    "def find_duplicate(dataset):\n",
    "\n",
    "    duplicate_apps = []\n",
    "    unique_apps = []\n",
    "    \n",
    "    for app in dataset[1:]:\n",
    "        name = app[0]\n",
    "        if name in unique_apps:\n",
    "            duplicate_apps.append(name)\n",
    "        else:\n",
    "            unique_apps.append(name)\n",
    "    return unique_apps, duplicate_apps\n",
    "\n",
    "ios_unique_apps, ios_duplicate_apps = find_duplicate(ios_data)\n",
    "android_unique_apps, android_duplicate_apps = find_duplicate(android_data)\n",
    "\n",
    "print('Number of duplicated ios apps:',len(ios_duplicate_apps))\n",
    "print('Number of unique ios apps:',len(ios_unique_apps))\n",
    "print('Number of duplicated android apps:',len(android_duplicate_apps))\n",
    "print('Number of unique android apps:',len(android_unique_apps))"
   ]
  },
  {
   "cell_type": "markdown",
   "metadata": {},
   "source": [
    "In this part, we make a list of the apps and the largest number of reviews that they received. The list is represented as a dictionary, in which a key is the name of the app and the value is the corresponding number of reviews that the app receives. As a verification step, we print the number of apps in the list, and we confirm that it matches the number of unique apps in the android dataset."
   ]
  },
  {
   "cell_type": "code",
   "execution_count": 19,
   "metadata": {},
   "outputs": [
    {
     "name": "stdout",
     "output_type": "stream",
     "text": [
      "Length of the dictionary: 9659\n"
     ]
    }
   ],
   "source": [
    "def find_max_review(dataset, index):\n",
    "    reviews_max = {}\n",
    "    for app in dataset[1:]:\n",
    "        name = app[0]\n",
    "        n_reviews = float(app[index])\n",
    "\n",
    "        if name in reviews_max and reviews_max[name] < n_reviews:\n",
    "            reviews_max[name] = n_reviews\n",
    "        elif name not in reviews_max:\n",
    "            reviews_max[name] = n_reviews\n",
    "    return reviews_max\n",
    "\n",
    "# the number of reviews is the 4th column of the android dataset\n",
    "android_max_reviews = find_max_review(android_data,3)\n",
    "print('Length of the dictionary:',len(android_max_reviews))"
   ]
  },
  {
   "cell_type": "markdown",
   "metadata": {},
   "source": [
    "Now, we filter the android dataset, keeping only the records that have the number of reviews matches the total number of reviews stored in the abovementioned dictionary. We remove all other entries of the same app. A look of the cleaned dataset is shown below."
   ]
  },
  {
   "cell_type": "code",
   "execution_count": 20,
   "metadata": {},
   "outputs": [
    {
     "name": "stdout",
     "output_type": "stream",
     "text": [
      "First three rows of the cleaned android dataset:\n",
      "\n",
      "['Photo Editor & Candy Camera & Grid & ScrapBook', 'ART_AND_DESIGN', '4.1', '159', '19M', '10,000+', 'Free', '0', 'Everyone', 'Art & Design', 'January 7, 2018', '1.0.0', '4.0.3 and up']\n",
      "\n",
      "\n",
      "['U Launcher Lite – FREE Live Cool Themes, Hide Apps', 'ART_AND_DESIGN', '4.7', '87510', '8.7M', '5,000,000+', 'Free', '0', 'Everyone', 'Art & Design', 'August 1, 2018', '1.2.4', '4.0.3 and up']\n",
      "\n",
      "\n",
      "['Sketch - Draw & Paint', 'ART_AND_DESIGN', '4.5', '215644', '25M', '50,000,000+', 'Free', '0', 'Teen', 'Art & Design', 'June 8, 2018', 'Varies with device', '4.2 and up']\n",
      "\n",
      "\n",
      "Number of rows: 9659\n",
      "Number of columns: 13\n"
     ]
    }
   ],
   "source": [
    "def clean_duplicate(dataset, index, reviews_max):   \n",
    "    dataset_clean = []\n",
    "    already_added = []\n",
    "\n",
    "    for app in dataset[1:]:\n",
    "        name = app[0]\n",
    "        n_reviews = float(app[index])\n",
    "        if n_reviews == reviews_max[name] and name not in already_added:\n",
    "            dataset_clean.append(app)\n",
    "            already_added.append(name)\n",
    "    return dataset_clean\n",
    "\n",
    "android_clean = clean_duplicate(android_data, 3, android_max_reviews)\n",
    "print('First three rows of the cleaned android dataset:\\n')\n",
    "explore_data(android_clean,0,3,True)"
   ]
  },
  {
   "cell_type": "markdown",
   "metadata": {},
   "source": [
    "# 2.3. Removing non-English Apps\n",
    "\n",
    "Interstingly, not every app in the ios and android stores is in English. In this analysis, assuming that we want to develope an app for English-speaking users, we will narrow our focus to only the apps which are in English. To this end, we present a function `is_English` to check if the app name is in English or not. Since all English characters are represented in computers using ASCII codes ranging from 0 to 127, we will filter the apps containing ASCII codes larger than 127. To avoid missing apps that are actually in English but contain some emoji, we will remove the app if the number of ASCII code larger than 127 is more than 3. Some sample outputs of the `is_English` are shown below when applying to a variety of inputs."
   ]
  },
  {
   "cell_type": "code",
   "execution_count": 11,
   "metadata": {},
   "outputs": [
    {
     "name": "stdout",
     "output_type": "stream",
     "text": [
      "True\n",
      "False\n",
      "True\n",
      "True\n"
     ]
    }
   ],
   "source": [
    "def is_English(string):\n",
    "    count = 0\n",
    "    for char in string:\n",
    "        if ord(char) > 127:\n",
    "            count = count + 1\n",
    "        if count > 3:\n",
    "            return False\n",
    "    return True\n",
    "\n",
    "print(is_English('Instagram'))\n",
    "print(is_English('爱奇艺PPS -《欢乐颂2》电视剧热播'))\n",
    "print(is_English('Docs To Go™ Free Office Suite'))\n",
    "print(is_English('Instachat 😜'))"
   ]
  },
  {
   "cell_type": "markdown",
   "metadata": {},
   "source": [
    "Next, we create a function named `only_English` to keep only the apps that are in English. The number of English apps in the android and ios stores is as follows."
   ]
  },
  {
   "cell_type": "code",
   "execution_count": 21,
   "metadata": {},
   "outputs": [
    {
     "name": "stdout",
     "output_type": "stream",
     "text": [
      "Number of English apps in android store: 9614\n",
      "Number of English apps in the ios store: 7197\n"
     ]
    }
   ],
   "source": [
    "def only_English(dataset):   \n",
    "    dataset_english = []\n",
    "\n",
    "    for app in dataset:\n",
    "        name = app[0]\n",
    "        if is_English(name):\n",
    "            dataset_english.append(app)\n",
    "    return dataset_english\n",
    "\n",
    "android_english = only_English(android_clean)\n",
    "ios_english = only_English(ios_data[1:])\n",
    "print('Number of English apps in android store:',len(android_english))\n",
    "print('Number of English apps in the ios store:',len(ios_english))"
   ]
  },
  {
   "cell_type": "markdown",
   "metadata": {},
   "source": [
    "# 2.4. Removing Paid Apps\n",
    "\n",
    "Since we are only intersted in free apps, we will filter our datasets again to keep only the free apps. The number of apps after the filter in both stores are shown below."
   ]
  },
  {
   "cell_type": "code",
   "execution_count": 22,
   "metadata": {},
   "outputs": [
    {
     "name": "stdout",
     "output_type": "stream",
     "text": [
      "Number of apps after filters in the android store: 8863\n",
      "Number of apps after filters in the ios store: 4055\n"
     ]
    }
   ],
   "source": [
    "android_free = []\n",
    "ios_free = []\n",
    "\n",
    "for app in android_english:\n",
    "    price = app[6]\n",
    "    if price == 'Free':\n",
    "        android_free.append(app)\n",
    "\n",
    "for app in ios_english[1:]:\n",
    "    price = float(app[4])\n",
    "    if price == 0.0:\n",
    "        ios_free.append(app)\n",
    "print('Number of apps after filters in the android store:',len(android_free))\n",
    "print('Number of apps after filters in the ios store:',len(ios_free))"
   ]
  },
  {
   "cell_type": "markdown",
   "metadata": {},
   "source": [
    "After all the filters, we are left with 8,863 apps in the android stores and 4,055 apps in the ios store, which are sufficient for our analysis."
   ]
  },
  {
   "cell_type": "markdown",
   "metadata": {},
   "source": [
    "# 3. Analysis\n",
    "\n",
    "In this section, we perform several analysis on the two datasets. First, we will look at which genres are the most popular on the two platforms."
   ]
  },
  {
   "cell_type": "markdown",
   "metadata": {},
   "source": [
    "# 3.1. Genre Analysis\n",
    "\n",
    "We take a look at the frequency tables of the app genres, i.e., the portion of each genre in the store. The following `freq_table` and `display_table` functions build and display the frequency tables of the two datasets, respectively."
   ]
  },
  {
   "cell_type": "code",
   "execution_count": 27,
   "metadata": {},
   "outputs": [],
   "source": [
    "def freq_table(dataset, index):\n",
    "    freq = {}\n",
    "    count = 0\n",
    "    for app in dataset:\n",
    "        count = count + 1\n",
    "        column = app[index]\n",
    "        if column not in freq:\n",
    "            freq[column] = 1\n",
    "        else:\n",
    "            freq[column] = freq[column] + 1\n",
    "    for key in freq:\n",
    "        freq[key] = (freq[key] / count) * 100\n",
    "    return freq\n",
    "\n",
    "def display_table(dataset, index):\n",
    "    table = freq_table(dataset, index)\n",
    "    table_display = []\n",
    "    for key in table:\n",
    "        key_val_as_tuple = (table[key], key)\n",
    "        table_display.append(key_val_as_tuple)\n",
    "\n",
    "    table_sorted = sorted(table_display, reverse = True)\n",
    "    for entry in table_sorted:\n",
    "        print(entry[1], ':', entry[0])"
   ]
  },
  {
   "cell_type": "markdown",
   "metadata": {},
   "source": [
    "Fist, let's take a look at the ios store. The relevant column we will be looking at is the `prime_genre` column."
   ]
  },
  {
   "cell_type": "code",
   "execution_count": 25,
   "metadata": {},
   "outputs": [
    {
     "name": "stdout",
     "output_type": "stream",
     "text": [
      "Frequency table of the ios dataset (in percentage):\n",
      "\n",
      "Games : 55.659679408138096\n",
      "Entertainment : 8.236744759556105\n",
      "Photo & Video : 4.1183723797780525\n",
      "Social Networking : 3.501849568434032\n",
      "Education : 3.255240443896424\n",
      "Shopping : 2.9839704069050557\n",
      "Utilities : 2.688039457459926\n",
      "Lifestyle : 2.318125770653514\n",
      "Finance : 2.0715166461159065\n",
      "Sports : 1.9482120838471024\n",
      "Health & Fitness : 1.8742293464858202\n",
      "Music : 1.6522811344019728\n",
      "Book : 1.627620221948212\n",
      "Productivity : 1.528976572133169\n",
      "News : 1.4303329223181258\n",
      "Travel : 1.381011097410604\n",
      "Food & Drink : 1.060419235511714\n",
      "Weather : 0.7644882860665845\n",
      "Reference : 0.4932182490752158\n",
      "Navigation : 0.4932182490752158\n",
      "Business : 0.4932182490752158\n",
      "Catalogs : 0.22194821208384713\n",
      "Medical : 0.19728729963008632\n"
     ]
    }
   ],
   "source": [
    "print('Frequency table of the ios dataset (in percentage):\\n')\n",
    "display_table(ios_free, 11)"
   ]
  },
  {
   "cell_type": "markdown",
   "metadata": {},
   "source": [
    "As we can see, more than half of the apps on the Apple store are games (55.7%). The four next common categories are entertainment (8.2%), photo & video (4.1%), social networking (3.5%), and education (3.3%). Combining the statistics of the first four groups, we see that 71.5% of the ios stores are apps belonging to the 'fun' categories. However, the large portion of apps may not directly indicate the number of users for the apps."
   ]
  },
  {
   "cell_type": "markdown",
   "metadata": {},
   "source": [
    "Let's switch our focus to the android store for now. There are two columns in the android datasets that represent the app groups: `Categories` and `Genre`. In the code below, we take a look at the frequencies table for both columns."
   ]
  },
  {
   "cell_type": "code",
   "execution_count": 28,
   "metadata": {},
   "outputs": [
    {
     "name": "stdout",
     "output_type": "stream",
     "text": [
      "Frequency table of the genres in android dataset (in percentage):\n",
      "\n",
      "Tools : 8.450863138892023\n",
      "Entertainment : 6.070179397495204\n",
      "Education : 5.348076272142616\n",
      "Business : 4.592124562789123\n",
      "Productivity : 3.8925871601038025\n",
      "Lifestyle : 3.8925871601038025\n",
      "Finance : 3.7007785174320205\n",
      "Medical : 3.5315355974275078\n",
      "Sports : 3.463838429425702\n",
      "Personalization : 3.317161232088458\n",
      "Communication : 3.2381812027530184\n",
      "Action : 3.102786866749408\n",
      "Health & Fitness : 3.0802211440821394\n",
      "Photography : 2.944826808078529\n",
      "News & Magazines : 2.798149610741284\n",
      "Social : 2.6627552747376737\n",
      "Travel & Local : 2.324269434728647\n",
      "Shopping : 2.245289405393208\n",
      "Books & Reference : 2.1437436533904997\n",
      "Simulation : 2.042197901387792\n",
      "Dating : 1.8616721200496444\n",
      "Arcade : 1.8503892587160102\n",
      "Video Players & Editors : 1.771409229380571\n",
      "Casual : 1.7601263680469368\n",
      "Maps & Navigation : 1.399074805370642\n",
      "Food & Drink : 1.241114746699763\n",
      "Puzzle : 1.128286133363421\n",
      "Racing : 0.9928917973598104\n",
      "Role Playing : 0.9364774906916393\n",
      "Libraries & Demo : 0.9364774906916393\n",
      "Auto & Vehicles : 0.9251946293580051\n",
      "Strategy : 0.9026289066907368\n",
      "House & Home : 0.8236488773552973\n",
      "Weather : 0.8010831546880289\n",
      "Events : 0.7108202640189552\n",
      "Adventure : 0.6769716800180525\n",
      "Comics : 0.6092745120162473\n",
      "Beauty : 0.5979916506826132\n",
      "Art & Design : 0.5979916506826132\n",
      "Parenting : 0.4964458986799052\n",
      "Card : 0.4513144533453684\n",
      "Casino : 0.42874873067809993\n",
      "Trivia : 0.4174658693444658\n",
      "Educational;Education : 0.3949001466771973\n",
      "Board : 0.38361728534356315\n",
      "Educational : 0.37233442400992894\n",
      "Education;Education : 0.33848584000902626\n",
      "Word : 0.25950581067358686\n",
      "Casual;Pretend Play : 0.2369400880063184\n",
      "Music : 0.20309150400541578\n",
      "Racing;Action & Adventure : 0.16924292000451313\n",
      "Puzzle;Brain Games : 0.16924292000451313\n",
      "Entertainment;Music & Video : 0.16924292000451313\n",
      "Casual;Brain Games : 0.1353943360036105\n",
      "Casual;Action & Adventure : 0.1353943360036105\n",
      "Arcade;Action & Adventure : 0.1241114746699763\n",
      "Action;Action & Adventure : 0.10154575200270789\n",
      "Educational;Pretend Play : 0.09026289066907367\n",
      "Simulation;Action & Adventure : 0.07898002933543948\n",
      "Parenting;Education : 0.07898002933543948\n",
      "Entertainment;Brain Games : 0.07898002933543948\n",
      "Board;Brain Games : 0.07898002933543948\n",
      "Parenting;Music & Video : 0.06769716800180525\n",
      "Educational;Brain Games : 0.06769716800180525\n",
      "Casual;Creativity : 0.06769716800180525\n",
      "Art & Design;Creativity : 0.06769716800180525\n",
      "Education;Pretend Play : 0.05641430666817105\n",
      "Role Playing;Pretend Play : 0.045131445334536835\n",
      "Education;Creativity : 0.045131445334536835\n",
      "Role Playing;Action & Adventure : 0.033848584000902626\n",
      "Puzzle;Action & Adventure : 0.033848584000902626\n",
      "Entertainment;Creativity : 0.033848584000902626\n",
      "Entertainment;Action & Adventure : 0.033848584000902626\n",
      "Educational;Creativity : 0.033848584000902626\n",
      "Educational;Action & Adventure : 0.033848584000902626\n",
      "Education;Music & Video : 0.033848584000902626\n",
      "Education;Brain Games : 0.033848584000902626\n",
      "Education;Action & Adventure : 0.033848584000902626\n",
      "Adventure;Action & Adventure : 0.033848584000902626\n",
      "Video Players & Editors;Music & Video : 0.022565722667268417\n",
      "Sports;Action & Adventure : 0.022565722667268417\n",
      "Simulation;Pretend Play : 0.022565722667268417\n",
      "Puzzle;Creativity : 0.022565722667268417\n",
      "Music;Music & Video : 0.022565722667268417\n",
      "Entertainment;Pretend Play : 0.022565722667268417\n",
      "Casual;Education : 0.022565722667268417\n",
      "Board;Action & Adventure : 0.022565722667268417\n",
      "Video Players & Editors;Creativity : 0.011282861333634209\n",
      "Trivia;Education : 0.011282861333634209\n",
      "Travel & Local;Action & Adventure : 0.011282861333634209\n",
      "Tools;Education : 0.011282861333634209\n",
      "Strategy;Education : 0.011282861333634209\n",
      "Strategy;Creativity : 0.011282861333634209\n",
      "Strategy;Action & Adventure : 0.011282861333634209\n",
      "Simulation;Education : 0.011282861333634209\n",
      "Role Playing;Brain Games : 0.011282861333634209\n",
      "Racing;Pretend Play : 0.011282861333634209\n",
      "Puzzle;Education : 0.011282861333634209\n",
      "Parenting;Brain Games : 0.011282861333634209\n",
      "Music & Audio;Music & Video : 0.011282861333634209\n",
      "Lifestyle;Pretend Play : 0.011282861333634209\n",
      "Lifestyle;Education : 0.011282861333634209\n",
      "Health & Fitness;Education : 0.011282861333634209\n",
      "Health & Fitness;Action & Adventure : 0.011282861333634209\n",
      "Entertainment;Education : 0.011282861333634209\n",
      "Communication;Creativity : 0.011282861333634209\n",
      "Comics;Creativity : 0.011282861333634209\n",
      "Casual;Music & Video : 0.011282861333634209\n",
      "Card;Action & Adventure : 0.011282861333634209\n",
      "Books & Reference;Education : 0.011282861333634209\n",
      "Art & Design;Pretend Play : 0.011282861333634209\n",
      "Art & Design;Action & Adventure : 0.011282861333634209\n",
      "Arcade;Pretend Play : 0.011282861333634209\n",
      "Adventure;Education : 0.011282861333634209\n"
     ]
    }
   ],
   "source": [
    "print('Frequency table of the genres in android dataset (in percentage):\\n')\n",
    "display_table(android_free, 9)"
   ]
  },
  {
   "cell_type": "code",
   "execution_count": 29,
   "metadata": {},
   "outputs": [
    {
     "name": "stdout",
     "output_type": "stream",
     "text": [
      "Frequency table of the categories in android dataset (in percentage):\n",
      "\n",
      "FAMILY : 18.898792733837304\n",
      "GAME : 9.725826469592688\n",
      "TOOLS : 8.462146000225657\n",
      "BUSINESS : 4.592124562789123\n",
      "LIFESTYLE : 3.9038700214374367\n",
      "PRODUCTIVITY : 3.8925871601038025\n",
      "FINANCE : 3.7007785174320205\n",
      "MEDICAL : 3.5315355974275078\n",
      "SPORTS : 3.396141261423897\n",
      "PERSONALIZATION : 3.317161232088458\n",
      "COMMUNICATION : 3.2381812027530184\n",
      "HEALTH_AND_FITNESS : 3.0802211440821394\n",
      "PHOTOGRAPHY : 2.944826808078529\n",
      "NEWS_AND_MAGAZINES : 2.798149610741284\n",
      "SOCIAL : 2.6627552747376737\n",
      "TRAVEL_AND_LOCAL : 2.335552296062281\n",
      "SHOPPING : 2.245289405393208\n",
      "BOOKS_AND_REFERENCE : 2.1437436533904997\n",
      "DATING : 1.8616721200496444\n",
      "VIDEO_PLAYERS : 1.7939749520478394\n",
      "MAPS_AND_NAVIGATION : 1.399074805370642\n",
      "FOOD_AND_DRINK : 1.241114746699763\n",
      "EDUCATION : 1.1621347173643235\n",
      "ENTERTAINMENT : 0.9590432133589079\n",
      "LIBRARIES_AND_DEMO : 0.9364774906916393\n",
      "AUTO_AND_VEHICLES : 0.9251946293580051\n",
      "HOUSE_AND_HOME : 0.8236488773552973\n",
      "WEATHER : 0.8010831546880289\n",
      "EVENTS : 0.7108202640189552\n",
      "PARENTING : 0.6544059573507841\n",
      "ART_AND_DESIGN : 0.6431230960171499\n",
      "COMICS : 0.6205573733498815\n",
      "BEAUTY : 0.5979916506826132\n"
     ]
    }
   ],
   "source": [
    "print('Frequency table of the categories in android dataset (in percentage):\\n')\n",
    "display_table(android_free,1)"
   ]
  },
  {
   "cell_type": "markdown",
   "metadata": {},
   "source": [
    "Unlike the App Store, in which most apps fall into the 'fun' category, the Google Play store contains similar spread of apps about games, entertainment, tools, and educations. This is an interesting observation that may serve developers to choose which platform they should publish their apps."
   ]
  },
  {
   "cell_type": "markdown",
   "metadata": {},
   "source": [
    "# 3.2. User Downloads Analysis\n",
    "\n",
    "In this section, we analyze which app genre attracts the most user downloads. This information can be found on the `installs` coulumn of the android dataset. However, the ios dataset does not provide this information explicitly. To substitute, we may calculate which app genre receives the most ratings by analyzing the `rating_count_tot` column of the ios dataset."
   ]
  },
  {
   "cell_type": "markdown",
   "metadata": {},
   "source": [
    "# 3.2.1. On the Google Play Store\n",
    "\n",
    "Let us first focus on the dataset on the Google Play store. We will show the analysis result in a dictionary, in which the key is the name of the category and the corresponding value is the average number of installs apps belong to the category receive. To this end, we write two functions `android_genre_avg_install()` and `display_android_genre_rating_table()` to calculate and display the result, respectively. Since the number of installs in the android dataset is only represented as `100,000+`, `50,000+` and so on, we only get a rough idea about how many installs the apps actually receive. In our analysis, we regard `100,000+` as 100,000 installations, `50,000+` as 50,000 installations, etc. "
   ]
  },
  {
   "cell_type": "code",
   "execution_count": 31,
   "metadata": {},
   "outputs": [
    {
     "name": "stdout",
     "output_type": "stream",
     "text": [
      "Average number of installations per category of apps on the Google Play Store:\n",
      "\n",
      "COMMUNICATION : 38456119.167247385\n",
      "VIDEO_PLAYERS : 24727872.452830188\n",
      "SOCIAL : 23253652.127118643\n",
      "PHOTOGRAPHY : 17840110.40229885\n",
      "PRODUCTIVITY : 16787331.344927534\n",
      "GAME : 15588015.603248259\n",
      "TRAVEL_AND_LOCAL : 13984077.710144928\n",
      "ENTERTAINMENT : 11640705.88235294\n",
      "TOOLS : 10801391.298666667\n",
      "NEWS_AND_MAGAZINES : 9549178.467741935\n",
      "BOOKS_AND_REFERENCE : 8767811.894736841\n",
      "SHOPPING : 7036877.311557789\n",
      "PERSONALIZATION : 5201482.6122448975\n",
      "WEATHER : 5074486.197183099\n",
      "HEALTH_AND_FITNESS : 4188821.9853479853\n",
      "MAPS_AND_NAVIGATION : 4056941.7741935486\n",
      "FAMILY : 3697848.1731343283\n",
      "SPORTS : 3638640.1428571427\n",
      "ART_AND_DESIGN : 1986335.0877192982\n",
      "FOOD_AND_DRINK : 1924897.7363636363\n",
      "EDUCATION : 1833495.145631068\n",
      "BUSINESS : 1712290.1474201474\n",
      "LIFESTYLE : 1437816.2687861272\n",
      "FINANCE : 1387692.475609756\n",
      "HOUSE_AND_HOME : 1331540.5616438356\n",
      "DATING : 854028.8303030303\n",
      "COMICS : 817657.2727272727\n",
      "AUTO_AND_VEHICLES : 647317.8170731707\n",
      "LIBRARIES_AND_DEMO : 638503.734939759\n",
      "PARENTING : 542603.6206896552\n",
      "BEAUTY : 513151.88679245283\n",
      "EVENTS : 253542.22222222222\n",
      "MEDICAL : 120550.61980830671\n"
     ]
    }
   ],
   "source": [
    "android_category_freq = freq_table(android_free,1)\n",
    "\n",
    "def android_genre_avg_install(dataset, index):\n",
    "    android_genre_install = {}\n",
    "    for category in android_category_freq:\n",
    "        total = 0\n",
    "        len_category = 0\n",
    "        for app in dataset:\n",
    "            category_app = app[1]\n",
    "            if category_app == category:\n",
    "                app_install = app[index]\n",
    "                app_install = app_install.replace('+','')\n",
    "                app_install = app_install.replace(',','')\n",
    "                app_install = float(app_install)\n",
    "                total = total + app_install\n",
    "                len_category = len_category + 1\n",
    "        android_genre_install[category] = total / len_category\n",
    "    return android_genre_install\n",
    "\n",
    "def display_android_genre_rating_table(dataset, index):\n",
    "    table = android_genre_avg_install(dataset, index)\n",
    "    table_display = []\n",
    "    for key in table:\n",
    "        key_val_as_tuple = (table[key], key)\n",
    "        table_display.append(key_val_as_tuple)\n",
    "\n",
    "    table_sorted = sorted(table_display, reverse = True)\n",
    "    for entry in table_sorted:\n",
    "        print(entry[1], ':', entry[0])\n",
    "\n",
    "print('Average number of installations per category of apps on the Google Play Store:\\n')\n",
    "display_android_genre_rating_table(android_free, 5)"
   ]
  },
  {
   "cell_type": "markdown",
   "metadata": {},
   "source": [
    "We observe that the top five categories that receive the most installs are communication, video players, social, photography, and productivity. This observation reveals a behavior of android mobile users that they mostly use apps for communicating and socializing purpose, then for entertaining purpose. We take a closer look at the apps belonging to the communication category with the most installations."
   ]
  },
  {
   "cell_type": "code",
   "execution_count": 32,
   "metadata": {},
   "outputs": [
    {
     "name": "stdout",
     "output_type": "stream",
     "text": [
      "WhatsApp Messenger : 1,000,000,000+\n",
      "Google Duo - High Quality Video Calls : 500,000,000+\n",
      "Messenger – Text and Video Chat for Free : 1,000,000,000+\n",
      "imo free video calls and chat : 500,000,000+\n",
      "Skype - free IM & video calls : 1,000,000,000+\n",
      "LINE: Free Calls & Messages : 500,000,000+\n",
      "Google Chrome: Fast & Secure : 1,000,000,000+\n",
      "UC Browser - Fast Download Private & Secure : 500,000,000+\n",
      "Gmail : 1,000,000,000+\n",
      "Hangouts : 1,000,000,000+\n",
      "Viber Messenger : 500,000,000+\n"
     ]
    }
   ],
   "source": [
    "for app in android_free:\n",
    "    if app[1] == 'COMMUNICATION' and (app[5] == '1,000,000,000+' or app[5] == '500,000,000+'):\n",
    "        print(app[0], ':', app[5])"
   ]
  },
  {
   "cell_type": "markdown",
   "metadata": {},
   "source": [
    "We see that there are 11 communication apps that receive more than 500 million installations. To see if these 11 apps dominate the average installation number in the communication category, we calculate the average installation again after removing these 11 apps."
   ]
  },
  {
   "cell_type": "code",
   "execution_count": 36,
   "metadata": {},
   "outputs": [
    {
     "data": {
      "text/plain": [
       "9191689.13405797"
      ]
     },
     "execution_count": 36,
     "metadata": {},
     "output_type": "execute_result"
    }
   ],
   "source": [
    "android_under_500 = []\n",
    "\n",
    "for app in android_free:\n",
    "    no_installs = app[5]\n",
    "    no_installs = no_installs.replace(',', '')\n",
    "    no_installs = no_installs.replace('+', '')\n",
    "    if (app[1] == 'COMMUNICATION') and (float(no_installs) < 500000000):\n",
    "        android_under_500.append(float(no_installs))\n",
    "        \n",
    "sum(android_under_500) / len(android_under_500)"
   ]
  },
  {
   "cell_type": "markdown",
   "metadata": {},
   "source": [
    "Compare to the average number of installs before removing the 11 apps, which is 38456119, the new average is more than 4 times smaller. This indicates that the majority of downloads in this category falls into the hands of a few most common apps."
   ]
  },
  {
   "cell_type": "markdown",
   "metadata": {},
   "source": [
    "We are interested to see if the same pattern applies to the next four categories: video players, social, photography, and productivity. Since we have fewer apps in these categories, we will analyze the apps that receive more than 100 million downloads compared to the rest of the apps."
   ]
  },
  {
   "cell_type": "code",
   "execution_count": 48,
   "metadata": {},
   "outputs": [
    {
     "name": "stdout",
     "output_type": "stream",
     "text": [
      "Number of apps that have above 100 millions installations in video players: 9\n",
      "Average installs of the remaining apps for the video players: 5544878.133333334\n",
      "\n",
      "\n",
      "Number of apps that have above 100 millions installations in social category: 13\n",
      "Average installs of the remaining apps apps for social category: 3084582.5201793723\n",
      "\n",
      "\n",
      "Number of apps that have above 100 millions installations in photography: 19\n",
      "Average installs of the remaining apps apps for photography: 7670532.29338843\n",
      "\n",
      "\n",
      "Number of apps that have above 100 millions installations in productivity: 22\n",
      "Average installs of the remaining apps apps for productivity: 3379657.318885449\n"
     ]
    }
   ],
   "source": [
    "android_video = 0\n",
    "android_social = 0\n",
    "android_photo = 0\n",
    "android_productivity = 0\n",
    "android_video_under_100 = []\n",
    "android_social_under_100 = []\n",
    "android_photo_under_100 = []\n",
    "android_productivity_under_100 = []\n",
    "\n",
    "for app in android_free:\n",
    "    no_installs = app[5]\n",
    "    no_installs = no_installs.replace(',', '')\n",
    "    no_installs = no_installs.replace('+', '')\n",
    "    if (app[1] == 'VIDEO_PLAYERS'):\n",
    "        android_video += 1\n",
    "        if (float(no_installs) < 100000000):\n",
    "            android_video_under_100.append(float(no_installs))\n",
    "    elif (app[1] == 'SOCIAL'):\n",
    "        android_social += 1\n",
    "        if (float(no_installs) < 100000000):\n",
    "            android_social_under_100.append(float(no_installs))\n",
    "    elif (app[1] == 'PHOTOGRAPHY'):\n",
    "        android_photo += 1\n",
    "        if (float(no_installs) < 100000000):\n",
    "            android_photo_under_100.append(float(no_installs))\n",
    "    elif (app[1] == 'PRODUCTIVITY'):\n",
    "        android_productivity += 1\n",
    "        if (float(no_installs) < 100000000):\n",
    "            android_productivity_under_100.append(float(no_installs))\n",
    "        \n",
    "print('Number of apps that have above 100 millions installations in video players:', android_video - len(android_video_under_100))\n",
    "print('Average installs of the remaining apps for the video players:', sum(android_video_under_100) / len(android_video_under_100))\n",
    "print('\\n')\n",
    "print('Number of apps that have above 100 millions installations in social category:', android_social - len(android_social_under_100))\n",
    "print('Average installs of the remaining apps apps for social category:', sum(android_social_under_100) / len(android_social_under_100))\n",
    "print('\\n')\n",
    "print('Number of apps that have above 100 millions installations in photography:', android_photo - len(android_photo_under_100))\n",
    "print('Average installs of the remaining apps apps for photography:', sum(android_photo_under_100) / len(android_photo_under_100))\n",
    "print('\\n')\n",
    "print('Number of apps that have above 100 millions installations in productivity:', android_productivity - len(android_productivity_under_100))\n",
    "print('Average installs of the remaining apps apps for productivity:', sum(android_productivity_under_100) / len(android_productivity_under_100))"
   ]
  },
  {
   "cell_type": "markdown",
   "metadata": {},
   "source": [
    "We observe the same trend we see in the `Communication` category for the video players and social category, which is that the majority of the downloads fall into a few apps. In other words, the market for these categories are dominated by a few 'big players'. However, for the photography and productivity categories, it seems that many apps succeeded. We will compare this result to the AppStore."
   ]
  },
  {
   "cell_type": "markdown",
   "metadata": {},
   "source": [
    "# 3.2.2. On the AppStore\n",
    "\n",
    "We look at the most popular genres in the AppStore sorted in the descending order of the number of reviews."
   ]
  },
  {
   "cell_type": "code",
   "execution_count": 49,
   "metadata": {},
   "outputs": [
    {
     "name": "stdout",
     "output_type": "stream",
     "text": [
      "Average number of user ratings per category of apps on the AppStore:\n",
      "\n",
      "Reference : 67447.9\n",
      "Music : 56482.02985074627\n",
      "Weather : 47220.93548387097\n",
      "Social Networking : 32503.563380281692\n",
      "Photo & Video : 27249.892215568863\n",
      "Navigation : 25972.05\n",
      "Travel : 20216.01785714286\n",
      "Food & Drink : 20179.093023255813\n",
      "Sports : 20128.974683544304\n",
      "Health & Fitness : 19952.315789473683\n",
      "Productivity : 19053.887096774193\n",
      "Games : 18924.68896765618\n",
      "Shopping : 18746.677685950413\n",
      "News : 15892.724137931034\n",
      "Utilities : 14010.100917431193\n",
      "Finance : 13522.261904761905\n",
      "Entertainment : 10822.961077844311\n",
      "Lifestyle : 8978.308510638299\n",
      "Book : 8498.333333333334\n",
      "Business : 6367.8\n",
      "Education : 6266.333333333333\n",
      "Catalogs : 1779.5555555555557\n",
      "Medical : 459.75\n"
     ]
    }
   ],
   "source": [
    "def find_ios_genre_freq(dataset, index):    \n",
    "    ios_genre_freq = freq_table(dataset, index)\n",
    "    genre_avg_rating = {}\n",
    "    for genre in ios_genre_freq:\n",
    "        total = 0\n",
    "        len_genre = 0\n",
    "        for app in ios_free:\n",
    "            genre_app = app[11]\n",
    "            if genre_app == genre:\n",
    "                rating_count = float(app[5])\n",
    "                total = total + rating_count\n",
    "                len_genre = len_genre + 1\n",
    "        avg_rating = total / len_genre\n",
    "        genre_avg_rating[genre] = avg_rating\n",
    "    return genre_avg_rating\n",
    "\n",
    "def display_genre_rating_table(dataset, index):\n",
    "    table = find_ios_genre_freq(dataset, index)\n",
    "    table_display = []\n",
    "    for key in table:\n",
    "        key_val_as_tuple = (table[key], key)\n",
    "        table_display.append(key_val_as_tuple)\n",
    "\n",
    "    table_sorted = sorted(table_display, reverse = True)\n",
    "    for entry in table_sorted:\n",
    "        print(entry[1], ':', entry[0])\n",
    "        \n",
    "print('Average number of user ratings per category of apps on the AppStore:\\n')\n",
    "display_genre_rating_table(ios_free, 11)"
   ]
  },
  {
   "cell_type": "markdown",
   "metadata": {},
   "source": [
    "We look more closely at the `Photo & Video` and `Productivity` categories in order to compare them with the data in the android dataset. Based on the average rating numbers of the two categories, we see how many apps in the AppStore have more than 30k ratings in the `Photo & Video` and more than 20k ratings in the `Productivity` category."
   ]
  },
  {
   "cell_type": "code",
   "execution_count": 53,
   "metadata": {},
   "outputs": [
    {
     "name": "stdout",
     "output_type": "stream",
     "text": [
      "Number of apps that have above 100 millions installations in photography: 21\n",
      "Average installs of the remaining apps apps for photography: 4243.232876712329\n",
      "\n",
      "\n",
      "Number of apps that have above 100 millions installations in productivity: 15\n",
      "Average installs of the remaining apps apps for productivity: 4716.0\n"
     ]
    }
   ],
   "source": [
    "ios_photo = 0\n",
    "ios_productivity = 0\n",
    "ios_photo_under_100 = []\n",
    "ios_productivity_under_100 = []\n",
    "\n",
    "for app in ios_free:\n",
    "    no_ratings = app[5]\n",
    "    \n",
    "    if (app[11] == 'Photo & Video'):\n",
    "        ios_photo += 1\n",
    "        if (float(no_ratings) < 30000):\n",
    "            ios_photo_under_100.append(float(no_ratings))\n",
    "    elif (app[11] == 'Productivity'):\n",
    "        ios_productivity += 1\n",
    "        if (float(no_ratings) < 20000):\n",
    "            ios_productivity_under_100.append(float(no_ratings))\n",
    "        \n",
    "print('Number of apps that have above 30k ratings in photography:', ios_photo - len(ios_photo_under_100))\n",
    "print('Average installs of the remaining apps apps for photography:', sum(ios_photo_under_100) / len(ios_photo_under_100))\n",
    "print('\\n')\n",
    "print('Number of apps that have above 20k ratings installations in productivity:', ios_productivity - len(ios_productivity_under_100))\n",
    "print('Average installs of the remaining apps apps for productivity:', sum(ios_productivity_under_100) / len(ios_productivity_under_100))"
   ]
  },
  {
   "cell_type": "markdown",
   "metadata": {},
   "source": [
    "We see that there are 21 apps in the `Photo & Video` group and 15 apps in the `Productivity` group that are accounted for most of the user ratings. However, this relatively large number of apps also indicates that there is no small number of 'big players' or 'giants' in the market of these categories. Therefore, if developers aim to develop new apps that are expected to attract a lot of users on both platform, then `Photo & Video` and `Productivity` may be good choices since they attract a large number of users and are not saturated at the present. "
   ]
  },
  {
   "cell_type": "markdown",
   "metadata": {},
   "source": [
    "# 4. Concluding Remarks\n",
    "\n",
    "In this project, we analyzed the app data on the AppStore and the Google Play Store to find the most profitable app profile that developers should create. In particular, we focus on the free English app market. We showed that `Photo & Video` and `Productivity` categories are the favorable categories to develop new apps because of their tendency to attract a large number of users and that there are not yet many 'big players' that dominate the market at the moment."
   ]
  }
 ],
 "metadata": {
  "kernelspec": {
   "display_name": "Python 3",
   "language": "python",
   "name": "python3"
  },
  "language_info": {
   "codemirror_mode": {
    "name": "ipython",
    "version": 3
   },
   "file_extension": ".py",
   "mimetype": "text/x-python",
   "name": "python",
   "nbconvert_exporter": "python",
   "pygments_lexer": "ipython3",
   "version": "3.7.1"
  }
 },
 "nbformat": 4,
 "nbformat_minor": 2
}
